{
 "cells": [
  {
   "cell_type": "markdown",
   "metadata": {},
   "source": [
    "References:\n",
    "* https://medium.com/@zhonghong9998/anomaly-detection-in-time-series-data-using-lstm-autoencoders-51fd14946fa3\n",
    "* https://www.semanticscholar.org/paper/Unsupervised-Anomaly-Detection-in-Time-Series-Using-Provotar-Linder/8b07f61e5807ab23663360735eb6ed4ac0c0d6f2\n",
    "* https://www.semanticscholar.org/paper/Anomaly-detection-in-rotating-machinery-using-based-Patra-Sethi/71d30898d623e17a1c3dd13ac902e00214093154\n"
   ]
  },
  {
   "cell_type": "markdown",
   "metadata": {},
   "source": [
    "# Importing libraries"
   ]
  },
  {
   "cell_type": "code",
   "execution_count": 49,
   "metadata": {},
   "outputs": [],
   "source": [
    "import pandas as pd\n",
    "import numpy as np\n",
    "import matplotlib.pyplot as plt\n",
    "import seaborn as sns\n",
    "import plotly.express as px\n",
    "import os\n",
    "import torch\n",
    "import torch.nn as nn\n",
    "import torch.optim as optim\n",
    "from sklearn.preprocessing import StandardScaler\n",
    "from sklearn.model_selection import train_test_split\n",
    "\n",
    "from torch.nn.utils.rnn import pack_padded_sequence, pad_packed_sequence\n",
    "from torch.utils.data import DataLoader, Dataset\n",
    "# import helper function script\n",
    "import script_EDA as scp"
   ]
  },
  {
   "cell_type": "markdown",
   "metadata": {},
   "source": [
    "# Load Data"
   ]
  },
  {
   "cell_type": "code",
   "execution_count": 50,
   "metadata": {},
   "outputs": [
    {
     "data": {
      "text/html": [
       "<div>\n",
       "<style scoped>\n",
       "    .dataframe tbody tr th:only-of-type {\n",
       "        vertical-align: middle;\n",
       "    }\n",
       "\n",
       "    .dataframe tbody tr th {\n",
       "        vertical-align: top;\n",
       "    }\n",
       "\n",
       "    .dataframe thead th {\n",
       "        text-align: right;\n",
       "    }\n",
       "</style>\n",
       "<table border=\"1\" class=\"dataframe\">\n",
       "  <thead>\n",
       "    <tr style=\"text-align: right;\">\n",
       "      <th></th>\n",
       "      <th>Flight</th>\n",
       "      <th>ID</th>\n",
       "      <th>VALUE_FOB</th>\n",
       "      <th>VALUE_FOB_EXPECTED</th>\n",
       "      <th>VALUE_FOB_DIFF</th>\n",
       "      <th>FUEL_USED_1</th>\n",
       "      <th>FUEL_USED_2</th>\n",
       "      <th>FUEL_USED_3</th>\n",
       "      <th>FUEL_USED_4</th>\n",
       "      <th>TOTAL_FUEL_USED</th>\n",
       "      <th>FUEL_LOADED_FOB</th>\n",
       "      <th>VALUE_FUEL_QTY_CT</th>\n",
       "      <th>VALUE_FUEL_QTY_FT1</th>\n",
       "      <th>VALUE_FUEL_QTY_FT2</th>\n",
       "      <th>VALUE_FUEL_QTY_FT3</th>\n",
       "      <th>VALUE_FUEL_QTY_FT4</th>\n",
       "      <th>VALUE_FUEL_QTY_LXT</th>\n",
       "      <th>VALUE_FUEL_QTY_RXT</th>\n",
       "      <th>LEAK_FLOW</th>\n",
       "      <th>TARGET</th>\n",
       "    </tr>\n",
       "    <tr>\n",
       "      <th>UTC_TIME</th>\n",
       "      <th></th>\n",
       "      <th></th>\n",
       "      <th></th>\n",
       "      <th></th>\n",
       "      <th></th>\n",
       "      <th></th>\n",
       "      <th></th>\n",
       "      <th></th>\n",
       "      <th></th>\n",
       "      <th></th>\n",
       "      <th></th>\n",
       "      <th></th>\n",
       "      <th></th>\n",
       "      <th></th>\n",
       "      <th></th>\n",
       "      <th></th>\n",
       "      <th></th>\n",
       "      <th></th>\n",
       "      <th></th>\n",
       "      <th></th>\n",
       "    </tr>\n",
       "  </thead>\n",
       "  <tbody>\n",
       "    <tr>\n",
       "      <th>2016-08-26 06:37:00</th>\n",
       "      <td>37_16.0</td>\n",
       "      <td>16.0_F-RBAJ</td>\n",
       "      <td>37228.333333</td>\n",
       "      <td>36800.890320</td>\n",
       "      <td>-427.443014</td>\n",
       "      <td>623.952576</td>\n",
       "      <td>621.907532</td>\n",
       "      <td>626.026062</td>\n",
       "      <td>618.223511</td>\n",
       "      <td>2490.109680</td>\n",
       "      <td>39291.0</td>\n",
       "      <td>4017.0</td>\n",
       "      <td>1889.0</td>\n",
       "      <td>2656.0</td>\n",
       "      <td>2685.0</td>\n",
       "      <td>1871.0</td>\n",
       "      <td>12225.0</td>\n",
       "      <td>11892.0</td>\n",
       "      <td>0.16</td>\n",
       "      <td>1</td>\n",
       "    </tr>\n",
       "    <tr>\n",
       "      <th>2016-08-26 06:37:01</th>\n",
       "      <td>37_16.0</td>\n",
       "      <td>16.0_F-RBAJ</td>\n",
       "      <td>37229.435418</td>\n",
       "      <td>36799.774841</td>\n",
       "      <td>-429.660577</td>\n",
       "      <td>624.230164</td>\n",
       "      <td>622.183716</td>\n",
       "      <td>626.308105</td>\n",
       "      <td>618.503174</td>\n",
       "      <td>2491.225159</td>\n",
       "      <td>39291.0</td>\n",
       "      <td>4013.0</td>\n",
       "      <td>1889.0</td>\n",
       "      <td>2656.0</td>\n",
       "      <td>2684.0</td>\n",
       "      <td>1870.0</td>\n",
       "      <td>12228.0</td>\n",
       "      <td>11895.0</td>\n",
       "      <td>0.16</td>\n",
       "      <td>1</td>\n",
       "    </tr>\n",
       "    <tr>\n",
       "      <th>2016-08-26 06:37:02</th>\n",
       "      <td>37_16.0</td>\n",
       "      <td>16.0_F-RBAJ</td>\n",
       "      <td>37230.730430</td>\n",
       "      <td>36798.591370</td>\n",
       "      <td>-432.139060</td>\n",
       "      <td>624.506348</td>\n",
       "      <td>622.460754</td>\n",
       "      <td>626.624023</td>\n",
       "      <td>618.817505</td>\n",
       "      <td>2492.408630</td>\n",
       "      <td>39291.0</td>\n",
       "      <td>4009.0</td>\n",
       "      <td>1889.0</td>\n",
       "      <td>2656.0</td>\n",
       "      <td>2684.0</td>\n",
       "      <td>1870.0</td>\n",
       "      <td>12230.0</td>\n",
       "      <td>11896.0</td>\n",
       "      <td>0.16</td>\n",
       "      <td>1</td>\n",
       "    </tr>\n",
       "    <tr>\n",
       "      <th>2016-08-26 06:37:03</th>\n",
       "      <td>37_16.0</td>\n",
       "      <td>16.0_F-RBAJ</td>\n",
       "      <td>37229.565736</td>\n",
       "      <td>36797.446716</td>\n",
       "      <td>-432.119020</td>\n",
       "      <td>624.782471</td>\n",
       "      <td>622.771118</td>\n",
       "      <td>626.904785</td>\n",
       "      <td>619.094910</td>\n",
       "      <td>2493.553284</td>\n",
       "      <td>39291.0</td>\n",
       "      <td>4004.0</td>\n",
       "      <td>1889.0</td>\n",
       "      <td>2656.0</td>\n",
       "      <td>2684.0</td>\n",
       "      <td>1869.0</td>\n",
       "      <td>12232.0</td>\n",
       "      <td>11899.0</td>\n",
       "      <td>0.16</td>\n",
       "      <td>1</td>\n",
       "    </tr>\n",
       "    <tr>\n",
       "      <th>2016-08-26 06:37:04</th>\n",
       "      <td>37_16.0</td>\n",
       "      <td>16.0_F-RBAJ</td>\n",
       "      <td>37228.364136</td>\n",
       "      <td>36796.311584</td>\n",
       "      <td>-432.052551</td>\n",
       "      <td>625.091919</td>\n",
       "      <td>623.043701</td>\n",
       "      <td>627.182129</td>\n",
       "      <td>619.370667</td>\n",
       "      <td>2494.688416</td>\n",
       "      <td>39291.0</td>\n",
       "      <td>3999.0</td>\n",
       "      <td>1888.0</td>\n",
       "      <td>2656.0</td>\n",
       "      <td>2684.0</td>\n",
       "      <td>1869.0</td>\n",
       "      <td>12233.0</td>\n",
       "      <td>11903.0</td>\n",
       "      <td>0.16</td>\n",
       "      <td>1</td>\n",
       "    </tr>\n",
       "  </tbody>\n",
       "</table>\n",
       "</div>"
      ],
      "text/plain": [
       "                      Flight           ID     VALUE_FOB  VALUE_FOB_EXPECTED  \\\n",
       "UTC_TIME                                                                      \n",
       "2016-08-26 06:37:00  37_16.0  16.0_F-RBAJ  37228.333333        36800.890320   \n",
       "2016-08-26 06:37:01  37_16.0  16.0_F-RBAJ  37229.435418        36799.774841   \n",
       "2016-08-26 06:37:02  37_16.0  16.0_F-RBAJ  37230.730430        36798.591370   \n",
       "2016-08-26 06:37:03  37_16.0  16.0_F-RBAJ  37229.565736        36797.446716   \n",
       "2016-08-26 06:37:04  37_16.0  16.0_F-RBAJ  37228.364136        36796.311584   \n",
       "\n",
       "                     VALUE_FOB_DIFF  FUEL_USED_1  FUEL_USED_2  FUEL_USED_3  \\\n",
       "UTC_TIME                                                                     \n",
       "2016-08-26 06:37:00     -427.443014   623.952576   621.907532   626.026062   \n",
       "2016-08-26 06:37:01     -429.660577   624.230164   622.183716   626.308105   \n",
       "2016-08-26 06:37:02     -432.139060   624.506348   622.460754   626.624023   \n",
       "2016-08-26 06:37:03     -432.119020   624.782471   622.771118   626.904785   \n",
       "2016-08-26 06:37:04     -432.052551   625.091919   623.043701   627.182129   \n",
       "\n",
       "                     FUEL_USED_4  TOTAL_FUEL_USED  FUEL_LOADED_FOB  \\\n",
       "UTC_TIME                                                             \n",
       "2016-08-26 06:37:00   618.223511      2490.109680          39291.0   \n",
       "2016-08-26 06:37:01   618.503174      2491.225159          39291.0   \n",
       "2016-08-26 06:37:02   618.817505      2492.408630          39291.0   \n",
       "2016-08-26 06:37:03   619.094910      2493.553284          39291.0   \n",
       "2016-08-26 06:37:04   619.370667      2494.688416          39291.0   \n",
       "\n",
       "                     VALUE_FUEL_QTY_CT  VALUE_FUEL_QTY_FT1  \\\n",
       "UTC_TIME                                                     \n",
       "2016-08-26 06:37:00             4017.0              1889.0   \n",
       "2016-08-26 06:37:01             4013.0              1889.0   \n",
       "2016-08-26 06:37:02             4009.0              1889.0   \n",
       "2016-08-26 06:37:03             4004.0              1889.0   \n",
       "2016-08-26 06:37:04             3999.0              1888.0   \n",
       "\n",
       "                     VALUE_FUEL_QTY_FT2  VALUE_FUEL_QTY_FT3  \\\n",
       "UTC_TIME                                                      \n",
       "2016-08-26 06:37:00              2656.0              2685.0   \n",
       "2016-08-26 06:37:01              2656.0              2684.0   \n",
       "2016-08-26 06:37:02              2656.0              2684.0   \n",
       "2016-08-26 06:37:03              2656.0              2684.0   \n",
       "2016-08-26 06:37:04              2656.0              2684.0   \n",
       "\n",
       "                     VALUE_FUEL_QTY_FT4  VALUE_FUEL_QTY_LXT  \\\n",
       "UTC_TIME                                                      \n",
       "2016-08-26 06:37:00              1871.0             12225.0   \n",
       "2016-08-26 06:37:01              1870.0             12228.0   \n",
       "2016-08-26 06:37:02              1870.0             12230.0   \n",
       "2016-08-26 06:37:03              1869.0             12232.0   \n",
       "2016-08-26 06:37:04              1869.0             12233.0   \n",
       "\n",
       "                     VALUE_FUEL_QTY_RXT  LEAK_FLOW  TARGET  \n",
       "UTC_TIME                                                    \n",
       "2016-08-26 06:37:00             11892.0       0.16       1  \n",
       "2016-08-26 06:37:01             11895.0       0.16       1  \n",
       "2016-08-26 06:37:02             11896.0       0.16       1  \n",
       "2016-08-26 06:37:03             11899.0       0.16       1  \n",
       "2016-08-26 06:37:04             11903.0       0.16       1  "
      ]
     },
     "execution_count": 50,
     "metadata": {},
     "output_type": "execute_result"
    }
   ],
   "source": [
    "df = pd.read_csv('../all_flights_preprocessed_with_and_without_leaks.csv', index_col=0,sep=';')\n",
    "df.head()"
   ]
  },
  {
   "cell_type": "markdown",
   "metadata": {},
   "source": [
    "## Preprocess data"
   ]
  },
  {
   "cell_type": "code",
   "execution_count": 51,
   "metadata": {},
   "outputs": [],
   "source": [
    "# Filter the normal data\n",
    "normal_data = df[df['TARGET'] == 0]\n",
    "anomalous_data = df[df['TARGET'] == 1]\n",
    "\n",
    "# Group the data by Flight\n",
    "grouped = normal_data.groupby('Flight')\n",
    "\n",
    "# Extract the flight indices\n",
    "flight_indices = list(grouped.groups.keys())\n",
    "\n",
    "# Train-Test Split on flight indices\n",
    "train_indices, test_indices = train_test_split(flight_indices, test_size=0.2, random_state=42)\n",
    "\n",
    "# Create train and test datasets based on the split flight indices, 20% of the flight data is used for testing\n",
    "train_data = normal_data[normal_data['Flight'].isin(train_indices)].drop(['Flight', 'ID', 'LEAK_FLOW', 'TARGET'], axis=1).values\n",
    "test_data = normal_data[normal_data['Flight'].isin(test_indices)].drop(['Flight', 'ID', 'LEAK_FLOW', 'TARGET'], axis=1).values\n",
    "\n",
    "# Convert to numpy arrays if needed\n",
    "train_data = np.array(train_data)\n",
    "test_data = np.array(test_data)"
   ]
  },
  {
   "cell_type": "markdown",
   "metadata": {},
   "source": [
    "## Standarize"
   ]
  },
  {
   "cell_type": "code",
   "execution_count": 52,
   "metadata": {},
   "outputs": [],
   "source": [
    "# Normalize the data\n",
    "scaler = StandardScaler()\n",
    "\n",
    "normal_data_train_scaled = scaler.fit_transform(train_data)\n",
    "normal_data_test_scaled = scaler.transform(test_data)\n",
    "\n",
    "anomalous_data_scaled = scaler.transform(anomalous_data.drop(['Flight', 'ID', 'LEAK_FLOW', 'TARGET'], axis=1).values)\n",
    "\n"
   ]
  },
  {
   "cell_type": "markdown",
   "metadata": {},
   "source": [
    "## Create custom Dataset"
   ]
  },
  {
   "cell_type": "code",
   "execution_count": 64,
   "metadata": {},
   "outputs": [],
   "source": [
    "def create_sequences(data, seq_length):\n",
    "    sequences = []\n",
    "    for i in range(len(data) - seq_length + 1):\n",
    "        sequences.append(data[i:i + seq_length])\n",
    "    return np.array(sequences)\n",
    "\n",
    "seq_length = 10  # You can adjust this value\n",
    "train_sequences = create_sequences(normal_data_train_scaled, seq_length)\n",
    "test_sequences = create_sequences(normal_data_test_scaled, seq_length)\n",
    "anomalous_sequences = create_sequences(anomalous_data_scaled, seq_length)"
   ]
  },
  {
   "cell_type": "markdown",
   "metadata": {},
   "source": [
    "# AutoEncoder arquitecture (in pytorch)"
   ]
  },
  {
   "cell_type": "code",
   "execution_count": 84,
   "metadata": {},
   "outputs": [],
   "source": [
    "# Define the LSTM Autoencoder\n",
    "class LSTMAutoencoder(nn.Module):\n",
    "    def __init__(self, seq_length, n_features, embedding_dim=64):\n",
    "        super(LSTMAutoencoder, self).__init__()\n",
    "        self.seq_length = seq_length\n",
    "        self.encoder = nn.LSTM(\n",
    "            input_size=n_features, \n",
    "            hidden_size=embedding_dim,\n",
    "            num_layers=1, \n",
    "            batch_first=True\n",
    "        )\n",
    "        self.decoder = nn.LSTM(\n",
    "            input_size=embedding_dim, \n",
    "            hidden_size=embedding_dim,\n",
    "            num_layers=1, \n",
    "            batch_first=True\n",
    "        )\n",
    "        self.output_layer = nn.Linear(embedding_dim, n_features)\n",
    "        \n",
    "    def forward(self, x):\n",
    "        # Encoder\n",
    "        _, (hidden, cell) = self.encoder(x)\n",
    "        # Repeat hidden state\n",
    "        hidden = hidden.repeat(self.seq_length, 1, 1).permute(1, 0, 2)\n",
    "        # Decoder\n",
    "        x, (hidden, cell) = self.decoder(hidden)\n",
    "        # Apply output layer to match the original feature size\n",
    "        x = self.output_layer(x)\n",
    "        return x"
   ]
  },
  {
   "cell_type": "code",
   "execution_count": 85,
   "metadata": {},
   "outputs": [],
   "source": [
    "# Training the model\n",
    "def train_model(model, train_data, num_epochs=50, batch_size=64, lr=1e-3):\n",
    "    optimizer = optim.Adam(model.parameters(), lr=lr)\n",
    "    criterion = nn.MSELoss()\n",
    "    model.train()\n",
    "    \n",
    "    for epoch in range(num_epochs):\n",
    "        for i in range(0, len(train_data), batch_size):\n",
    "            x_batch = train_data[i:i+batch_size]\n",
    "            x_batch = torch.tensor(x_batch, dtype=torch.float32).to(device)\n",
    "            \n",
    "            optimizer.zero_grad()\n",
    "            output = model(x_batch)\n",
    "            loss = criterion(output, x_batch)\n",
    "            loss.backward()\n",
    "            optimizer.step()\n",
    "        \n",
    "        print(f'Epoch [{epoch+1}/{num_epochs}], Loss: {loss.item():.4f}')"
   ]
  },
  {
   "cell_type": "code",
   "execution_count": 86,
   "metadata": {},
   "outputs": [],
   "source": [
    "# Initialize the model, loss function, optimizer\n",
    "device = torch.device(\"cuda\" if torch.cuda.is_available() else \"cpu\")\n",
    "n_features = train_sequences.shape[2]\n",
    "model = LSTMAutoencoder(seq_length, n_features).to(device)"
   ]
  },
  {
   "cell_type": "code",
   "execution_count": 87,
   "metadata": {},
   "outputs": [
    {
     "data": {
      "text/plain": [
       "(1079718, 10, 16)"
      ]
     },
     "execution_count": 87,
     "metadata": {},
     "output_type": "execute_result"
    }
   ],
   "source": [
    "train_sequences.shape"
   ]
  },
  {
   "cell_type": "code",
   "execution_count": 89,
   "metadata": {},
   "outputs": [
    {
     "name": "stdout",
     "output_type": "stream",
     "text": [
      "Epoch [1/4], Loss: 0.0008\n",
      "Epoch [2/4], Loss: 0.0007\n",
      "Epoch [3/4], Loss: 0.0006\n",
      "Epoch [4/4], Loss: 0.0006\n"
     ]
    }
   ],
   "source": [
    "# Train the model\n",
    "train_model(model, train_sequences, num_epochs=4)\n",
    "\n"
   ]
  },
  {
   "cell_type": "markdown",
   "metadata": {},
   "source": [
    "# Evaluate Model"
   ]
  },
  {
   "cell_type": "code",
   "execution_count": 92,
   "metadata": {},
   "outputs": [],
   "source": [
    "# Evaluation function\n",
    "def evaluate_model(model, data):\n",
    "    model.eval()\n",
    "    with torch.no_grad():\n",
    "        data = torch.tensor(data, dtype=torch.float32).to(device)\n",
    "        output = model(data)\n",
    "        loss = nn.functional.mse_loss(output, data, reduction='none')\n",
    "        loss = loss.mean(dim=2).mean(dim=1).cpu().numpy()\n",
    "    return loss\n",
    "\n",
    "\n",
    "def evaluate_model(model, data, batch_size=64):\n",
    "    model.eval()\n",
    "    losses = []\n",
    "    with torch.no_grad():\n",
    "        for i in range(0, len(data), batch_size):\n",
    "            x_batch = data[i:i+batch_size]\n",
    "            x_batch = torch.tensor(x_batch, dtype=torch.float32).to(device)\n",
    "            output = model(x_batch)\n",
    "            loss = nn.functional.mse_loss(output, x_batch, reduction='none')\n",
    "            loss = loss.mean(dim=2).mean(dim=1).cpu().numpy()\n",
    "            losses.extend(loss)\n",
    "    return np.array(losses)"
   ]
  },
  {
   "cell_type": "code",
   "execution_count": 93,
   "metadata": {},
   "outputs": [
    {
     "name": "stdout",
     "output_type": "stream",
     "text": [
      "Detected 499397 anomalies out of 1204389 anomalous sequences\n"
     ]
    }
   ],
   "source": [
    "# Evaluate the model\n",
    "normal_loss = evaluate_model(model, test_sequences)\n",
    "anomalous_loss = evaluate_model(model, anomalous_sequences)\n",
    "\n",
    "# Threshold for anomaly detection\n",
    "threshold = np.percentile(normal_loss, 95)  # 95th percentile of normal data loss\n",
    "\n",
    "# Detect anomalies\n",
    "anomalies = anomalous_loss > threshold\n",
    "\n",
    "print(f\"Detected {anomalies.sum()} anomalies out of {len(anomalies)} anomalous sequences\")"
   ]
  },
  {
   "cell_type": "code",
   "execution_count": 101,
   "metadata": {},
   "outputs": [
    {
     "data": {
      "image/png": "[encoded data removed]",
      "text/plain": [
       "<Figure size 1000x500 with 1 Axes>"
      ]
     },
     "metadata": {},
     "output_type": "display_data"
    }
   ],
   "source": [
    "# Plot the loss distribution\n",
    "plt.figure(figsize=(10, 5))\n",
    "sns.histplot(normal_loss, kde=False, color='blue', label='Normal data',bins=50,log_scale=(True, False),stat='density')\n",
    "sns.histplot(anomalous_loss, kde=True, color='red', label='Anomalous data',bins=50,log_scale=(True, False),stat='density')\n",
    "plt.legend()\n",
    "plt.show()"
   ]
  }
 ],
 "metadata": {
  "kernelspec": {
   "display_name": "juliomain-312",
   "language": "python",
   "name": "python3"
  },
  "language_info": {
   "codemirror_mode": {
    "name": "ipython",
    "version": 3
   },
   "file_extension": ".py",
   "mimetype": "text/x-python",
   "name": "python",
   "nbconvert_exporter": "python",
   "pygments_lexer": "ipython3",
   "version": "3.8.19"
  }
 },
 "nbformat": 4,
 "nbformat_minor": 2
}
